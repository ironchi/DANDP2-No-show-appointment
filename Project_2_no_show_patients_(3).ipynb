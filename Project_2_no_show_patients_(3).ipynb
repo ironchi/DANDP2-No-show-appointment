{
  "nbformat": 4,
  "nbformat_minor": 0,
  "metadata": {
    "kernelspec": {
      "display_name": "Python 3",
      "language": "python",
      "name": "python3"
    },
    "language_info": {
      "codemirror_mode": {
        "name": "ipython",
        "version": 3
      },
      "file_extension": ".py",
      "mimetype": "text/x-python",
      "name": "python",
      "nbconvert_exporter": "python",
      "pygments_lexer": "ipython3",
      "version": "3.6.10"
    },
    "toc": {
      "base_numbering": 1,
      "nav_menu": {},
      "number_sections": true,
      "sideBar": true,
      "skip_h1_title": false,
      "title_cell": "Table of Contents",
      "title_sidebar": "Contents",
      "toc_cell": false,
      "toc_position": {},
      "toc_section_display": true,
      "toc_window_display": false
    },
    "colab": {
      "name": "Project 2 - no show patients (3).ipynb",
      "provenance": [],
      "include_colab_link": true
    }
  },
  "cells": [
    {
      "cell_type": "markdown",
      "metadata": {
        "id": "view-in-github",
        "colab_type": "text"
      },
      "source": [
        "<a href=\"https://colab.research.google.com/github/ironchi/Fhdwork/blob/master/Project_2_no_show_patients_(3).ipynb\" target=\"_parent\"><img src=\"https://colab.research.google.com/assets/colab-badge.svg\" alt=\"Open In Colab\"/></a>"
      ]
    },
    {
      "cell_type": "markdown",
      "metadata": {
        "id": "_tuB63qUf4H0",
        "colab_type": "text"
      },
      "source": [
        "# Project 2: Investigate a Dataset for now show patients appointments \n",
        "\n",
        "## Table of Contents\n",
        "<ul>\n",
        "<li><a href=\"#intro\">Introduction</a></li>\n",
        "<li><a href=\"#wrangling\">Data Wrangling</a></li>\n",
        "<li><a href=\"#eda\">Exploratory Data Analysis</a></li>\n",
        "<li><a href=\"#conclusions\">Conclusions</a></li>\n",
        "</ul>"
      ]
    },
    {
      "cell_type": "code",
      "metadata": {
        "id": "Bz-ZMlRsgSH4",
        "colab_type": "code",
        "colab": {
          "base_uri": "https://localhost:8080/",
          "height": 35
        },
        "outputId": "3e5dc58c-3480-48a5-cdef-eec1a7caa578"
      },
      "source": [
        "from google.colab import drive\n",
        "drive.mount('/content/drive')"
      ],
      "execution_count": 5,
      "outputs": [
        {
          "output_type": "stream",
          "text": [
            "Drive already mounted at /content/drive; to attempt to forcibly remount, call drive.mount(\"/content/drive\", force_remount=True).\n"
          ],
          "name": "stdout"
        }
      ]
    },
    {
      "cell_type": "markdown",
      "metadata": {
        "id": "_6VtKr8Cf4H2",
        "colab_type": "text"
      },
      "source": [
        "<a id='intro'></a>\n",
        "## Introduction\n",
        "\n",
        "> A hospital in brazil has offer a dataset for analysis assessment, this dataset has several factors that might help with the assessment results. This assesses has been investigated for the reasons of patient behaviour of attending scheduled appointments or not. This investigation will walk through several factors to predict if patients will attend his appointment or not and how we could give better recommendation for enhancement.  \n"
      ]
    },
    {
      "cell_type": "code",
      "metadata": {
        "id": "GOA1iA8Vf4H4",
        "colab_type": "code",
        "colab": {
          "base_uri": "https://localhost:8080/",
          "height": 72
        },
        "outputId": "c77e7bf7-9567-435b-a56b-0d4720f09d29"
      },
      "source": [
        "#import the necessary packages for caluclations and visualization and layout.\n",
        "import pandas as pd\n",
        "import numpy as np\n",
        "\n",
        "# import matplotlib and seaborn libraries for visualization\n",
        "import matplotlib as plot\n",
        "import seaborn as sns\n",
        "%matplotlib inline"
      ],
      "execution_count": 6,
      "outputs": [
        {
          "output_type": "stream",
          "text": [
            "/usr/local/lib/python3.6/dist-packages/statsmodels/tools/_testing.py:19: FutureWarning: pandas.util.testing is deprecated. Use the functions in the public API at pandas.testing instead.\n",
            "  import pandas.util.testing as tm\n"
          ],
          "name": "stderr"
        }
      ]
    },
    {
      "cell_type": "markdown",
      "metadata": {
        "id": "0Ta52ofgf4H8",
        "colab_type": "text"
      },
      "source": [
        "<a id='wrangling'></a>\n",
        "## Data Wrangling\n",
        "\n",
        "\n",
        "\n",
        "\n",
        "### General Properties"
      ]
    },
    {
      "cell_type": "markdown",
      "metadata": {
        "id": "yTdBqMr7f4H9",
        "colab_type": "text"
      },
      "source": [
        "> This section to load the data and have breif decrption about the it in dataset. once data has been loaded to data frame, you can call the head of the data by method head(). The dataset has over 100k patients records distributed on 14 columns. Then we have checked the datatype to know which data saved in these records by calling method info(). This give clear idea what we need from the dataset and we can vision the road map for this investigation."
      ]
    },
    {
      "cell_type": "code",
      "metadata": {
        "scrolled": true,
        "id": "3l5z99gmf4H-",
        "colab_type": "code",
        "outputId": "eae41c1e-7a59-4830-b0d0-73635fb5d919",
        "colab": {
          "base_uri": "https://localhost:8080/",
          "height": 306
        }
      },
      "source": [
        "# load data from csv file by using pandas library \n",
        "df = pd.read_csv('/content/noshowappointments-kagglev2-may-2016.csv')\n",
        "# show the head of the dataset to see brief infomation about the coloumns \n",
        "df.head()"
      ],
      "execution_count": 7,
      "outputs": [
        {
          "output_type": "execute_result",
          "data": {
            "text/html": [
              "<div>\n",
              "<style scoped>\n",
              "    .dataframe tbody tr th:only-of-type {\n",
              "        vertical-align: middle;\n",
              "    }\n",
              "\n",
              "    .dataframe tbody tr th {\n",
              "        vertical-align: top;\n",
              "    }\n",
              "\n",
              "    .dataframe thead th {\n",
              "        text-align: right;\n",
              "    }\n",
              "</style>\n",
              "<table border=\"1\" class=\"dataframe\">\n",
              "  <thead>\n",
              "    <tr style=\"text-align: right;\">\n",
              "      <th></th>\n",
              "      <th>PatientId</th>\n",
              "      <th>AppointmentID</th>\n",
              "      <th>Gender</th>\n",
              "      <th>ScheduledDay</th>\n",
              "      <th>AppointmentDay</th>\n",
              "      <th>Age</th>\n",
              "      <th>Neighbourhood</th>\n",
              "      <th>Scholarship</th>\n",
              "      <th>Hipertension</th>\n",
              "      <th>Diabetes</th>\n",
              "      <th>Alcoholism</th>\n",
              "      <th>Handcap</th>\n",
              "      <th>SMS_received</th>\n",
              "      <th>No-show</th>\n",
              "    </tr>\n",
              "  </thead>\n",
              "  <tbody>\n",
              "    <tr>\n",
              "      <th>0</th>\n",
              "      <td>2.987250e+13</td>\n",
              "      <td>5642903</td>\n",
              "      <td>F</td>\n",
              "      <td>2016-04-29T18:38:08Z</td>\n",
              "      <td>2016-04-29T00:00:00Z</td>\n",
              "      <td>62</td>\n",
              "      <td>JARDIM DA PENHA</td>\n",
              "      <td>0</td>\n",
              "      <td>1</td>\n",
              "      <td>0</td>\n",
              "      <td>0</td>\n",
              "      <td>0</td>\n",
              "      <td>0</td>\n",
              "      <td>No</td>\n",
              "    </tr>\n",
              "    <tr>\n",
              "      <th>1</th>\n",
              "      <td>5.589978e+14</td>\n",
              "      <td>5642503</td>\n",
              "      <td>M</td>\n",
              "      <td>2016-04-29T16:08:27Z</td>\n",
              "      <td>2016-04-29T00:00:00Z</td>\n",
              "      <td>56</td>\n",
              "      <td>JARDIM DA PENHA</td>\n",
              "      <td>0</td>\n",
              "      <td>0</td>\n",
              "      <td>0</td>\n",
              "      <td>0</td>\n",
              "      <td>0</td>\n",
              "      <td>0</td>\n",
              "      <td>No</td>\n",
              "    </tr>\n",
              "    <tr>\n",
              "      <th>2</th>\n",
              "      <td>4.262962e+12</td>\n",
              "      <td>5642549</td>\n",
              "      <td>F</td>\n",
              "      <td>2016-04-29T16:19:04Z</td>\n",
              "      <td>2016-04-29T00:00:00Z</td>\n",
              "      <td>62</td>\n",
              "      <td>MATA DA PRAIA</td>\n",
              "      <td>0</td>\n",
              "      <td>0</td>\n",
              "      <td>0</td>\n",
              "      <td>0</td>\n",
              "      <td>0</td>\n",
              "      <td>0</td>\n",
              "      <td>No</td>\n",
              "    </tr>\n",
              "    <tr>\n",
              "      <th>3</th>\n",
              "      <td>8.679512e+11</td>\n",
              "      <td>5642828</td>\n",
              "      <td>F</td>\n",
              "      <td>2016-04-29T17:29:31Z</td>\n",
              "      <td>2016-04-29T00:00:00Z</td>\n",
              "      <td>8</td>\n",
              "      <td>PONTAL DE CAMBURI</td>\n",
              "      <td>0</td>\n",
              "      <td>0</td>\n",
              "      <td>0</td>\n",
              "      <td>0</td>\n",
              "      <td>0</td>\n",
              "      <td>0</td>\n",
              "      <td>No</td>\n",
              "    </tr>\n",
              "    <tr>\n",
              "      <th>4</th>\n",
              "      <td>8.841186e+12</td>\n",
              "      <td>5642494</td>\n",
              "      <td>F</td>\n",
              "      <td>2016-04-29T16:07:23Z</td>\n",
              "      <td>2016-04-29T00:00:00Z</td>\n",
              "      <td>56</td>\n",
              "      <td>JARDIM DA PENHA</td>\n",
              "      <td>0</td>\n",
              "      <td>1</td>\n",
              "      <td>1</td>\n",
              "      <td>0</td>\n",
              "      <td>0</td>\n",
              "      <td>0</td>\n",
              "      <td>No</td>\n",
              "    </tr>\n",
              "  </tbody>\n",
              "</table>\n",
              "</div>"
            ],
            "text/plain": [
              "      PatientId  AppointmentID Gender  ... Handcap SMS_received  No-show\n",
              "0  2.987250e+13        5642903      F  ...       0            0       No\n",
              "1  5.589978e+14        5642503      M  ...       0            0       No\n",
              "2  4.262962e+12        5642549      F  ...       0            0       No\n",
              "3  8.679512e+11        5642828      F  ...       0            0       No\n",
              "4  8.841186e+12        5642494      F  ...       0            0       No\n",
              "\n",
              "[5 rows x 14 columns]"
            ]
          },
          "metadata": {
            "tags": []
          },
          "execution_count": 7
        }
      ]
    },
    {
      "cell_type": "code",
      "metadata": {
        "cell_style": "split",
        "id": "kkjTEtoLf4IG",
        "colab_type": "code",
        "outputId": "4a6055c5-4b52-4923-cabb-41a7bfdb0737",
        "colab": {
          "base_uri": "https://localhost:8080/",
          "height": 381
        }
      },
      "source": [
        "# check the info of columns and datatype of each column\n",
        "df.info()"
      ],
      "execution_count": 8,
      "outputs": [
        {
          "output_type": "stream",
          "text": [
            "<class 'pandas.core.frame.DataFrame'>\n",
            "RangeIndex: 110527 entries, 0 to 110526\n",
            "Data columns (total 14 columns):\n",
            " #   Column          Non-Null Count   Dtype  \n",
            "---  ------          --------------   -----  \n",
            " 0   PatientId       110527 non-null  float64\n",
            " 1   AppointmentID   110527 non-null  int64  \n",
            " 2   Gender          110527 non-null  object \n",
            " 3   ScheduledDay    110527 non-null  object \n",
            " 4   AppointmentDay  110527 non-null  object \n",
            " 5   Age             110527 non-null  int64  \n",
            " 6   Neighbourhood   110527 non-null  object \n",
            " 7   Scholarship     110527 non-null  int64  \n",
            " 8   Hipertension    110527 non-null  int64  \n",
            " 9   Diabetes        110527 non-null  int64  \n",
            " 10  Alcoholism      110527 non-null  int64  \n",
            " 11  Handcap         110527 non-null  int64  \n",
            " 12  SMS_received    110527 non-null  int64  \n",
            " 13  No-show         110527 non-null  object \n",
            "dtypes: float64(1), int64(8), object(5)\n",
            "memory usage: 11.8+ MB\n"
          ],
          "name": "stdout"
        }
      ]
    },
    {
      "cell_type": "markdown",
      "metadata": {
        "cell_style": "split",
        "id": "P3nL065Gf4IK",
        "colab_type": "text"
      },
      "source": [
        " #columns explanation# \n",
        " \n",
        " 0   PatientId     --> ID number of patients \n",
        " \n",
        " 1   AppointmentID --> ID number of appointments\n",
        " \n",
        " 2   Gender        --> Male or Female\n",
        " \n",
        " 3   ScheduledDay  -->The day of the actuallappointmen\n",
        " \n",
        " 4   AppointmentDay--> Date of appointment  \n",
        " \n",
        " 5   Age           --> How old is the patient\n",
        " \n",
        " 6   Neighbourhood --> Where the appointment takes\n",
        "place\n",
        "\n",
        " 7   Scholarship   --> True of False for Bolsa Família provides financial aid to poor Brazilian families\n",
        " \n",
        " 8   Hipertension  --> True of False\n",
        " \n",
        " 9   Diabetes      --> True of False\n",
        " \n",
        " 10  Alcoholism    --> True of False\n",
        " \n",
        " 11  Handcap       --> True of False\n",
        " \n",
        " 12  SMS_received  --> 1 or more messages sent to the patient\n",
        " \n",
        " 13  No-show       --> (Yes) that means person didn't show, (No) that means patient has attend"
      ]
    },
    {
      "cell_type": "markdown",
      "metadata": {
        "id": "xOYsmC_Bf4IK",
        "colab_type": "text"
      },
      "source": [
        "### Data Cleaning and preparation:  "
      ]
    },
    {
      "cell_type": "markdown",
      "metadata": {
        "collapsed": true,
        "id": "sNxwX2Ibf4IL",
        "colab_type": "text"
      },
      "source": [
        " For this section we have checked whether dataset has null values to be filled or duplicated value to be dropped. therefore we have run methods like isnull() for checking missing data and duplicated() to check wether this dataset has duplicated but haven't find anyone of these. Then I have droped unnecessary columns like PatientId and AppointmentID because they have no beneficial use for data exploration. Moreover I changed the columns names to lowercase letters and remove spaces between words to make it easier to manipulate and calculate. "
      ]
    },
    {
      "cell_type": "code",
      "metadata": {
        "cell_style": "split",
        "id": "pJ-M1dk2f4IM",
        "colab_type": "code",
        "outputId": "2c1f5489-b36c-4b4f-c7fc-4272cd5779f6",
        "colab": {
          "base_uri": "https://localhost:8080/",
          "height": 277
        }
      },
      "source": [
        "# check f there's any null value\n",
        "df.isnull().sum()"
      ],
      "execution_count": 9,
      "outputs": [
        {
          "output_type": "execute_result",
          "data": {
            "text/plain": [
              "PatientId         0\n",
              "AppointmentID     0\n",
              "Gender            0\n",
              "ScheduledDay      0\n",
              "AppointmentDay    0\n",
              "Age               0\n",
              "Neighbourhood     0\n",
              "Scholarship       0\n",
              "Hipertension      0\n",
              "Diabetes          0\n",
              "Alcoholism        0\n",
              "Handcap           0\n",
              "SMS_received      0\n",
              "No-show           0\n",
              "dtype: int64"
            ]
          },
          "metadata": {
            "tags": []
          },
          "execution_count": 9
        }
      ]
    },
    {
      "cell_type": "code",
      "metadata": {
        "cell_style": "split",
        "id": "n2mhBZ2Af4IR",
        "colab_type": "code",
        "outputId": "76dd93b6-aa29-4b63-8bc8-9c0dc8e8fbba",
        "colab": {
          "base_uri": "https://localhost:8080/",
          "height": 35
        }
      },
      "source": [
        "#check the amount of duplicated values\n",
        "df.duplicated().sum()"
      ],
      "execution_count": 10,
      "outputs": [
        {
          "output_type": "execute_result",
          "data": {
            "text/plain": [
              "0"
            ]
          },
          "metadata": {
            "tags": []
          },
          "execution_count": 10
        }
      ]
    },
    {
      "cell_type": "code",
      "metadata": {
        "id": "-1V1TmlXf4IV",
        "colab_type": "code",
        "colab": {}
      },
      "source": [
        "# drop two column from dataframe PatientId and AppointmentID\n",
        "df.drop(columns=['PatientId','AppointmentID'], axis=1, inplace= True)"
      ],
      "execution_count": 0,
      "outputs": []
    },
    {
      "cell_type": "code",
      "metadata": {
        "id": "-Ng-JTSsf4Ib",
        "colab_type": "code",
        "colab": {}
      },
      "source": [
        "# convert all columns to lower case and replace spaces with undeerscor \n",
        "df.rename(columns=lambda x: x.strip().lower().replace(\" \", \"_\"), inplace=True)"
      ],
      "execution_count": 0,
      "outputs": []
    },
    {
      "cell_type": "code",
      "metadata": {
        "scrolled": true,
        "id": "IyNCa1RPf4If",
        "colab_type": "code",
        "outputId": "3bc310a3-d75d-4de3-87b3-75b190bc9716",
        "colab": {
          "base_uri": "https://localhost:8080/",
          "height": 202
        }
      },
      "source": [
        "df.head()"
      ],
      "execution_count": 13,
      "outputs": [
        {
          "output_type": "execute_result",
          "data": {
            "text/html": [
              "<div>\n",
              "<style scoped>\n",
              "    .dataframe tbody tr th:only-of-type {\n",
              "        vertical-align: middle;\n",
              "    }\n",
              "\n",
              "    .dataframe tbody tr th {\n",
              "        vertical-align: top;\n",
              "    }\n",
              "\n",
              "    .dataframe thead th {\n",
              "        text-align: right;\n",
              "    }\n",
              "</style>\n",
              "<table border=\"1\" class=\"dataframe\">\n",
              "  <thead>\n",
              "    <tr style=\"text-align: right;\">\n",
              "      <th></th>\n",
              "      <th>gender</th>\n",
              "      <th>scheduledday</th>\n",
              "      <th>appointmentday</th>\n",
              "      <th>age</th>\n",
              "      <th>neighbourhood</th>\n",
              "      <th>scholarship</th>\n",
              "      <th>hipertension</th>\n",
              "      <th>diabetes</th>\n",
              "      <th>alcoholism</th>\n",
              "      <th>handcap</th>\n",
              "      <th>sms_received</th>\n",
              "      <th>no-show</th>\n",
              "    </tr>\n",
              "  </thead>\n",
              "  <tbody>\n",
              "    <tr>\n",
              "      <th>0</th>\n",
              "      <td>F</td>\n",
              "      <td>2016-04-29T18:38:08Z</td>\n",
              "      <td>2016-04-29T00:00:00Z</td>\n",
              "      <td>62</td>\n",
              "      <td>JARDIM DA PENHA</td>\n",
              "      <td>0</td>\n",
              "      <td>1</td>\n",
              "      <td>0</td>\n",
              "      <td>0</td>\n",
              "      <td>0</td>\n",
              "      <td>0</td>\n",
              "      <td>No</td>\n",
              "    </tr>\n",
              "    <tr>\n",
              "      <th>1</th>\n",
              "      <td>M</td>\n",
              "      <td>2016-04-29T16:08:27Z</td>\n",
              "      <td>2016-04-29T00:00:00Z</td>\n",
              "      <td>56</td>\n",
              "      <td>JARDIM DA PENHA</td>\n",
              "      <td>0</td>\n",
              "      <td>0</td>\n",
              "      <td>0</td>\n",
              "      <td>0</td>\n",
              "      <td>0</td>\n",
              "      <td>0</td>\n",
              "      <td>No</td>\n",
              "    </tr>\n",
              "    <tr>\n",
              "      <th>2</th>\n",
              "      <td>F</td>\n",
              "      <td>2016-04-29T16:19:04Z</td>\n",
              "      <td>2016-04-29T00:00:00Z</td>\n",
              "      <td>62</td>\n",
              "      <td>MATA DA PRAIA</td>\n",
              "      <td>0</td>\n",
              "      <td>0</td>\n",
              "      <td>0</td>\n",
              "      <td>0</td>\n",
              "      <td>0</td>\n",
              "      <td>0</td>\n",
              "      <td>No</td>\n",
              "    </tr>\n",
              "    <tr>\n",
              "      <th>3</th>\n",
              "      <td>F</td>\n",
              "      <td>2016-04-29T17:29:31Z</td>\n",
              "      <td>2016-04-29T00:00:00Z</td>\n",
              "      <td>8</td>\n",
              "      <td>PONTAL DE CAMBURI</td>\n",
              "      <td>0</td>\n",
              "      <td>0</td>\n",
              "      <td>0</td>\n",
              "      <td>0</td>\n",
              "      <td>0</td>\n",
              "      <td>0</td>\n",
              "      <td>No</td>\n",
              "    </tr>\n",
              "    <tr>\n",
              "      <th>4</th>\n",
              "      <td>F</td>\n",
              "      <td>2016-04-29T16:07:23Z</td>\n",
              "      <td>2016-04-29T00:00:00Z</td>\n",
              "      <td>56</td>\n",
              "      <td>JARDIM DA PENHA</td>\n",
              "      <td>0</td>\n",
              "      <td>1</td>\n",
              "      <td>1</td>\n",
              "      <td>0</td>\n",
              "      <td>0</td>\n",
              "      <td>0</td>\n",
              "      <td>No</td>\n",
              "    </tr>\n",
              "  </tbody>\n",
              "</table>\n",
              "</div>"
            ],
            "text/plain": [
              "  gender          scheduledday  ... sms_received  no-show\n",
              "0      F  2016-04-29T18:38:08Z  ...            0       No\n",
              "1      M  2016-04-29T16:08:27Z  ...            0       No\n",
              "2      F  2016-04-29T16:19:04Z  ...            0       No\n",
              "3      F  2016-04-29T17:29:31Z  ...            0       No\n",
              "4      F  2016-04-29T16:07:23Z  ...            0       No\n",
              "\n",
              "[5 rows x 12 columns]"
            ]
          },
          "metadata": {
            "tags": []
          },
          "execution_count": 13
        }
      ]
    },
    {
      "cell_type": "markdown",
      "metadata": {
        "id": "NJXJr_g7f4Ij",
        "colab_type": "text"
      },
      "source": [
        "I have checked if there's any negative data and I found negative value in age column, which it seems like unacceptable record for that I drop it."
      ]
    },
    {
      "cell_type": "code",
      "metadata": {
        "id": "YV8XG6X2f4Ij",
        "colab_type": "code",
        "outputId": "f69c2c68-9293-4574-d096-04d45754d83c",
        "colab": {
          "base_uri": "https://localhost:8080/",
          "height": 35
        }
      },
      "source": [
        "# check if there's vale less than zero in column age\n",
        "checkageseries = df.index[df['age'] < 0]\n",
        "\n",
        "checkageseries"
      ],
      "execution_count": 14,
      "outputs": [
        {
          "output_type": "execute_result",
          "data": {
            "text/plain": [
              "Int64Index([99832], dtype='int64')"
            ]
          },
          "metadata": {
            "tags": []
          },
          "execution_count": 14
        }
      ]
    },
    {
      "cell_type": "code",
      "metadata": {
        "scrolled": true,
        "id": "zcmaUUWVf4Io",
        "colab_type": "code",
        "outputId": "14abb27d-a2a2-4d5a-9c28-e0b06a1793ca",
        "colab": {
          "base_uri": "https://localhost:8080/",
          "height": 243
        }
      },
      "source": [
        "# select the row for validation \n",
        "df.iloc[99832]"
      ],
      "execution_count": 15,
      "outputs": [
        {
          "output_type": "execute_result",
          "data": {
            "text/plain": [
              "gender                               F\n",
              "scheduledday      2016-06-06T08:58:13Z\n",
              "appointmentday    2016-06-06T00:00:00Z\n",
              "age                                 -1\n",
              "neighbourhood                    ROMÃO\n",
              "scholarship                          0\n",
              "hipertension                         0\n",
              "diabetes                             0\n",
              "alcoholism                           0\n",
              "handcap                              0\n",
              "sms_received                         0\n",
              "no-show                             No\n",
              "Name: 99832, dtype: object"
            ]
          },
          "metadata": {
            "tags": []
          },
          "execution_count": 15
        }
      ]
    },
    {
      "cell_type": "code",
      "metadata": {
        "id": "it0I8DyPf4Is",
        "colab_type": "code",
        "colab": {}
      },
      "source": [
        "# drop the row with negative value by using index \n",
        "df.drop(df.index[99832], inplace=True)"
      ],
      "execution_count": 0,
      "outputs": []
    },
    {
      "cell_type": "code",
      "metadata": {
        "id": "_cm5898Of4Iv",
        "colab_type": "code",
        "outputId": "ee7a38a4-02a2-48fd-925e-8618888979bf",
        "colab": {
          "base_uri": "https://localhost:8080/",
          "height": 202
        }
      },
      "source": [
        "df.head()"
      ],
      "execution_count": 17,
      "outputs": [
        {
          "output_type": "execute_result",
          "data": {
            "text/html": [
              "<div>\n",
              "<style scoped>\n",
              "    .dataframe tbody tr th:only-of-type {\n",
              "        vertical-align: middle;\n",
              "    }\n",
              "\n",
              "    .dataframe tbody tr th {\n",
              "        vertical-align: top;\n",
              "    }\n",
              "\n",
              "    .dataframe thead th {\n",
              "        text-align: right;\n",
              "    }\n",
              "</style>\n",
              "<table border=\"1\" class=\"dataframe\">\n",
              "  <thead>\n",
              "    <tr style=\"text-align: right;\">\n",
              "      <th></th>\n",
              "      <th>gender</th>\n",
              "      <th>scheduledday</th>\n",
              "      <th>appointmentday</th>\n",
              "      <th>age</th>\n",
              "      <th>neighbourhood</th>\n",
              "      <th>scholarship</th>\n",
              "      <th>hipertension</th>\n",
              "      <th>diabetes</th>\n",
              "      <th>alcoholism</th>\n",
              "      <th>handcap</th>\n",
              "      <th>sms_received</th>\n",
              "      <th>no-show</th>\n",
              "    </tr>\n",
              "  </thead>\n",
              "  <tbody>\n",
              "    <tr>\n",
              "      <th>0</th>\n",
              "      <td>F</td>\n",
              "      <td>2016-04-29T18:38:08Z</td>\n",
              "      <td>2016-04-29T00:00:00Z</td>\n",
              "      <td>62</td>\n",
              "      <td>JARDIM DA PENHA</td>\n",
              "      <td>0</td>\n",
              "      <td>1</td>\n",
              "      <td>0</td>\n",
              "      <td>0</td>\n",
              "      <td>0</td>\n",
              "      <td>0</td>\n",
              "      <td>No</td>\n",
              "    </tr>\n",
              "    <tr>\n",
              "      <th>1</th>\n",
              "      <td>M</td>\n",
              "      <td>2016-04-29T16:08:27Z</td>\n",
              "      <td>2016-04-29T00:00:00Z</td>\n",
              "      <td>56</td>\n",
              "      <td>JARDIM DA PENHA</td>\n",
              "      <td>0</td>\n",
              "      <td>0</td>\n",
              "      <td>0</td>\n",
              "      <td>0</td>\n",
              "      <td>0</td>\n",
              "      <td>0</td>\n",
              "      <td>No</td>\n",
              "    </tr>\n",
              "    <tr>\n",
              "      <th>2</th>\n",
              "      <td>F</td>\n",
              "      <td>2016-04-29T16:19:04Z</td>\n",
              "      <td>2016-04-29T00:00:00Z</td>\n",
              "      <td>62</td>\n",
              "      <td>MATA DA PRAIA</td>\n",
              "      <td>0</td>\n",
              "      <td>0</td>\n",
              "      <td>0</td>\n",
              "      <td>0</td>\n",
              "      <td>0</td>\n",
              "      <td>0</td>\n",
              "      <td>No</td>\n",
              "    </tr>\n",
              "    <tr>\n",
              "      <th>3</th>\n",
              "      <td>F</td>\n",
              "      <td>2016-04-29T17:29:31Z</td>\n",
              "      <td>2016-04-29T00:00:00Z</td>\n",
              "      <td>8</td>\n",
              "      <td>PONTAL DE CAMBURI</td>\n",
              "      <td>0</td>\n",
              "      <td>0</td>\n",
              "      <td>0</td>\n",
              "      <td>0</td>\n",
              "      <td>0</td>\n",
              "      <td>0</td>\n",
              "      <td>No</td>\n",
              "    </tr>\n",
              "    <tr>\n",
              "      <th>4</th>\n",
              "      <td>F</td>\n",
              "      <td>2016-04-29T16:07:23Z</td>\n",
              "      <td>2016-04-29T00:00:00Z</td>\n",
              "      <td>56</td>\n",
              "      <td>JARDIM DA PENHA</td>\n",
              "      <td>0</td>\n",
              "      <td>1</td>\n",
              "      <td>1</td>\n",
              "      <td>0</td>\n",
              "      <td>0</td>\n",
              "      <td>0</td>\n",
              "      <td>No</td>\n",
              "    </tr>\n",
              "  </tbody>\n",
              "</table>\n",
              "</div>"
            ],
            "text/plain": [
              "  gender          scheduledday  ... sms_received  no-show\n",
              "0      F  2016-04-29T18:38:08Z  ...            0       No\n",
              "1      M  2016-04-29T16:08:27Z  ...            0       No\n",
              "2      F  2016-04-29T16:19:04Z  ...            0       No\n",
              "3      F  2016-04-29T17:29:31Z  ...            0       No\n",
              "4      F  2016-04-29T16:07:23Z  ...            0       No\n",
              "\n",
              "[5 rows x 12 columns]"
            ]
          },
          "metadata": {
            "tags": []
          },
          "execution_count": 17
        }
      ]
    },
    {
      "cell_type": "markdown",
      "metadata": {
        "id": "6b7flCFKf4Iz",
        "colab_type": "text"
      },
      "source": [
        "The data type in columns scheduledday and appointmentday need to be changed, I have change them to datetime. This format will make it easer to understand."
      ]
    },
    {
      "cell_type": "code",
      "metadata": {
        "id": "rAqJG_euf4Iz",
        "colab_type": "code",
        "colab": {}
      },
      "source": [
        "# Change the datatype of columns to datetime \n",
        "df['scheduledday'] = df['scheduledday'].astype('datetime64[ns]')\n",
        "df['appointmentday'] = df['appointmentday'].astype('datetime64[ns]')"
      ],
      "execution_count": 0,
      "outputs": []
    },
    {
      "cell_type": "markdown",
      "metadata": {
        "id": "P-tjzHjbf4I2",
        "colab_type": "text"
      },
      "source": [
        "I change the datatype of column no-show from object to int with replace (Yes) to 1 and (No) to 0."
      ]
    },
    {
      "cell_type": "code",
      "metadata": {
        "id": "VzA5ERi5f4I3",
        "colab_type": "code",
        "colab": {}
      },
      "source": [
        "# Change the value of Yes to 1 and value of No to 0\n",
        "df['no-show'].replace('No', 0, inplace=True)\n",
        "df['no-show'].replace('Yes', 1, inplace=True)"
      ],
      "execution_count": 0,
      "outputs": []
    },
    {
      "cell_type": "code",
      "metadata": {
        "id": "Tn69pBgTf4I6",
        "colab_type": "code",
        "colab": {}
      },
      "source": [
        "# change the datatype of column no-show from string to int\n",
        "df['no-show'] = df['no-show'].astype('int64')"
      ],
      "execution_count": 0,
      "outputs": []
    },
    {
      "cell_type": "code",
      "metadata": {
        "id": "HUJWxuCkf4I-",
        "colab_type": "code",
        "outputId": "e8bad0c1-d133-48a7-bc3c-70ef6eaf758c",
        "colab": {
          "base_uri": "https://localhost:8080/",
          "height": 79
        }
      },
      "source": [
        "# check the result after changing \n",
        "df.head(1)"
      ],
      "execution_count": 21,
      "outputs": [
        {
          "output_type": "execute_result",
          "data": {
            "text/html": [
              "<div>\n",
              "<style scoped>\n",
              "    .dataframe tbody tr th:only-of-type {\n",
              "        vertical-align: middle;\n",
              "    }\n",
              "\n",
              "    .dataframe tbody tr th {\n",
              "        vertical-align: top;\n",
              "    }\n",
              "\n",
              "    .dataframe thead th {\n",
              "        text-align: right;\n",
              "    }\n",
              "</style>\n",
              "<table border=\"1\" class=\"dataframe\">\n",
              "  <thead>\n",
              "    <tr style=\"text-align: right;\">\n",
              "      <th></th>\n",
              "      <th>gender</th>\n",
              "      <th>scheduledday</th>\n",
              "      <th>appointmentday</th>\n",
              "      <th>age</th>\n",
              "      <th>neighbourhood</th>\n",
              "      <th>scholarship</th>\n",
              "      <th>hipertension</th>\n",
              "      <th>diabetes</th>\n",
              "      <th>alcoholism</th>\n",
              "      <th>handcap</th>\n",
              "      <th>sms_received</th>\n",
              "      <th>no-show</th>\n",
              "    </tr>\n",
              "  </thead>\n",
              "  <tbody>\n",
              "    <tr>\n",
              "      <th>0</th>\n",
              "      <td>F</td>\n",
              "      <td>2016-04-29 18:38:08</td>\n",
              "      <td>2016-04-29</td>\n",
              "      <td>62</td>\n",
              "      <td>JARDIM DA PENHA</td>\n",
              "      <td>0</td>\n",
              "      <td>1</td>\n",
              "      <td>0</td>\n",
              "      <td>0</td>\n",
              "      <td>0</td>\n",
              "      <td>0</td>\n",
              "      <td>0</td>\n",
              "    </tr>\n",
              "  </tbody>\n",
              "</table>\n",
              "</div>"
            ],
            "text/plain": [
              "  gender        scheduledday appointmentday  ...  handcap sms_received  no-show\n",
              "0      F 2016-04-29 18:38:08     2016-04-29  ...        0            0        0\n",
              "\n",
              "[1 rows x 12 columns]"
            ]
          },
          "metadata": {
            "tags": []
          },
          "execution_count": 21
        }
      ]
    },
    {
      "cell_type": "markdown",
      "metadata": {
        "id": "s5RBlmETf4JC",
        "colab_type": "text"
      },
      "source": [
        "Moreover, I will add another column to categories the age to be devided over four categories. This going to be very hepful during exploration."
      ]
    },
    {
      "cell_type": "code",
      "metadata": {
        "id": "GTH11ByJf4JC",
        "colab_type": "code",
        "outputId": "6b4932b2-3d70-4812-ed1a-b127f32b9090",
        "colab": {
          "base_uri": "https://localhost:8080/",
          "height": 243
        }
      },
      "source": [
        "# create the labels for age \n",
        "pd.cut(df.age,bins=[0,2,17,65,99],labels=['Toddler/Baby','Child','Adult','Elderly'])"
      ],
      "execution_count": 22,
      "outputs": [
        {
          "output_type": "execute_result",
          "data": {
            "text/plain": [
              "0         Adult\n",
              "1         Adult\n",
              "2         Adult\n",
              "3         Child\n",
              "4         Adult\n",
              "          ...  \n",
              "110522    Adult\n",
              "110523    Adult\n",
              "110524    Adult\n",
              "110525    Adult\n",
              "110526    Adult\n",
              "Name: age, Length: 110526, dtype: category\n",
              "Categories (4, object): [Toddler/Baby < Child < Adult < Elderly]"
            ]
          },
          "metadata": {
            "tags": []
          },
          "execution_count": 22
        }
      ]
    },
    {
      "cell_type": "code",
      "metadata": {
        "id": "C_xtHALRf4JF",
        "colab_type": "code",
        "colab": {}
      },
      "source": [
        "# Save the new valuse in variable category and insert into column age group. \n",
        "category = pd.cut(df.age,bins=[0,2,17,65,99],labels=['Toddler/baby','Child','Adult','Elderly'])\n",
        "df.insert(5,'age_group',category)"
      ],
      "execution_count": 0,
      "outputs": []
    },
    {
      "cell_type": "code",
      "metadata": {
        "id": "Tm2TTez2f4JH",
        "colab_type": "code",
        "outputId": "c94a1360-a88d-405b-ff6d-80a34b24ecee",
        "colab": {
          "base_uri": "https://localhost:8080/",
          "height": 79
        }
      },
      "source": [
        "# See the changes by head only one row\n",
        "df.head(1)"
      ],
      "execution_count": 24,
      "outputs": [
        {
          "output_type": "execute_result",
          "data": {
            "text/html": [
              "<div>\n",
              "<style scoped>\n",
              "    .dataframe tbody tr th:only-of-type {\n",
              "        vertical-align: middle;\n",
              "    }\n",
              "\n",
              "    .dataframe tbody tr th {\n",
              "        vertical-align: top;\n",
              "    }\n",
              "\n",
              "    .dataframe thead th {\n",
              "        text-align: right;\n",
              "    }\n",
              "</style>\n",
              "<table border=\"1\" class=\"dataframe\">\n",
              "  <thead>\n",
              "    <tr style=\"text-align: right;\">\n",
              "      <th></th>\n",
              "      <th>gender</th>\n",
              "      <th>scheduledday</th>\n",
              "      <th>appointmentday</th>\n",
              "      <th>age</th>\n",
              "      <th>neighbourhood</th>\n",
              "      <th>age_group</th>\n",
              "      <th>scholarship</th>\n",
              "      <th>hipertension</th>\n",
              "      <th>diabetes</th>\n",
              "      <th>alcoholism</th>\n",
              "      <th>handcap</th>\n",
              "      <th>sms_received</th>\n",
              "      <th>no-show</th>\n",
              "    </tr>\n",
              "  </thead>\n",
              "  <tbody>\n",
              "    <tr>\n",
              "      <th>0</th>\n",
              "      <td>F</td>\n",
              "      <td>2016-04-29 18:38:08</td>\n",
              "      <td>2016-04-29</td>\n",
              "      <td>62</td>\n",
              "      <td>JARDIM DA PENHA</td>\n",
              "      <td>Adult</td>\n",
              "      <td>0</td>\n",
              "      <td>1</td>\n",
              "      <td>0</td>\n",
              "      <td>0</td>\n",
              "      <td>0</td>\n",
              "      <td>0</td>\n",
              "      <td>0</td>\n",
              "    </tr>\n",
              "  </tbody>\n",
              "</table>\n",
              "</div>"
            ],
            "text/plain": [
              "  gender        scheduledday appointmentday  ...  handcap sms_received no-show\n",
              "0      F 2016-04-29 18:38:08     2016-04-29  ...        0            0       0\n",
              "\n",
              "[1 rows x 13 columns]"
            ]
          },
          "metadata": {
            "tags": []
          },
          "execution_count": 24
        }
      ]
    },
    {
      "cell_type": "markdown",
      "metadata": {
        "id": "HApHzvaMf4JK",
        "colab_type": "text"
      },
      "source": [
        "<a id='eda'></a>\n",
        "## Exploratory Data Analysis:\n",
        "\n",
        "\n",
        "### Research Question 1: does the age and gender have relative relation with patients to make them not show for their appointments?"
      ]
    },
    {
      "cell_type": "markdown",
      "metadata": {
        "id": "WJG_oP7if4JK",
        "colab_type": "text"
      },
      "source": [
        "I have decided to start with gender and age, those two columns have very clear attributes to start with. based on those values I will discover a proper approach to find the relationships between others, which is going to have very good impact on finding."
      ]
    },
    {
      "cell_type": "code",
      "metadata": {
        "id": "IQNZq8IDf4JL",
        "colab_type": "code",
        "outputId": "1b08b6dc-f666-49b5-d15d-4b6a44ae8036",
        "colab": {
          "base_uri": "https://localhost:8080/",
          "height": 79
        }
      },
      "source": [
        "# Start by looking at the head of dataframe.\n",
        "df.head(1)"
      ],
      "execution_count": 25,
      "outputs": [
        {
          "output_type": "execute_result",
          "data": {
            "text/html": [
              "<div>\n",
              "<style scoped>\n",
              "    .dataframe tbody tr th:only-of-type {\n",
              "        vertical-align: middle;\n",
              "    }\n",
              "\n",
              "    .dataframe tbody tr th {\n",
              "        vertical-align: top;\n",
              "    }\n",
              "\n",
              "    .dataframe thead th {\n",
              "        text-align: right;\n",
              "    }\n",
              "</style>\n",
              "<table border=\"1\" class=\"dataframe\">\n",
              "  <thead>\n",
              "    <tr style=\"text-align: right;\">\n",
              "      <th></th>\n",
              "      <th>gender</th>\n",
              "      <th>scheduledday</th>\n",
              "      <th>appointmentday</th>\n",
              "      <th>age</th>\n",
              "      <th>neighbourhood</th>\n",
              "      <th>age_group</th>\n",
              "      <th>scholarship</th>\n",
              "      <th>hipertension</th>\n",
              "      <th>diabetes</th>\n",
              "      <th>alcoholism</th>\n",
              "      <th>handcap</th>\n",
              "      <th>sms_received</th>\n",
              "      <th>no-show</th>\n",
              "    </tr>\n",
              "  </thead>\n",
              "  <tbody>\n",
              "    <tr>\n",
              "      <th>0</th>\n",
              "      <td>F</td>\n",
              "      <td>2016-04-29 18:38:08</td>\n",
              "      <td>2016-04-29</td>\n",
              "      <td>62</td>\n",
              "      <td>JARDIM DA PENHA</td>\n",
              "      <td>Adult</td>\n",
              "      <td>0</td>\n",
              "      <td>1</td>\n",
              "      <td>0</td>\n",
              "      <td>0</td>\n",
              "      <td>0</td>\n",
              "      <td>0</td>\n",
              "      <td>0</td>\n",
              "    </tr>\n",
              "  </tbody>\n",
              "</table>\n",
              "</div>"
            ],
            "text/plain": [
              "  gender        scheduledday appointmentday  ...  handcap sms_received no-show\n",
              "0      F 2016-04-29 18:38:08     2016-04-29  ...        0            0       0\n",
              "\n",
              "[1 rows x 13 columns]"
            ]
          },
          "metadata": {
            "tags": []
          },
          "execution_count": 25
        }
      ]
    },
    {
      "cell_type": "markdown",
      "metadata": {
        "id": "KPZUPFy5f4JN",
        "colab_type": "text"
      },
      "source": [
        "For first look on describe table, you can observe that approximately average 20%  of patients didn't show for their appointments. "
      ]
    },
    {
      "cell_type": "code",
      "metadata": {
        "scrolled": false,
        "id": "0QLxtPbWf4JO",
        "colab_type": "code",
        "outputId": "df029010-b11d-495f-ada5-02d22c202a7c",
        "colab": {
          "base_uri": "https://localhost:8080/",
          "height": 294
        }
      },
      "source": [
        "# Describe the Statistics for columns values \n",
        "df.describe()"
      ],
      "execution_count": 26,
      "outputs": [
        {
          "output_type": "execute_result",
          "data": {
            "text/html": [
              "<div>\n",
              "<style scoped>\n",
              "    .dataframe tbody tr th:only-of-type {\n",
              "        vertical-align: middle;\n",
              "    }\n",
              "\n",
              "    .dataframe tbody tr th {\n",
              "        vertical-align: top;\n",
              "    }\n",
              "\n",
              "    .dataframe thead th {\n",
              "        text-align: right;\n",
              "    }\n",
              "</style>\n",
              "<table border=\"1\" class=\"dataframe\">\n",
              "  <thead>\n",
              "    <tr style=\"text-align: right;\">\n",
              "      <th></th>\n",
              "      <th>age</th>\n",
              "      <th>scholarship</th>\n",
              "      <th>hipertension</th>\n",
              "      <th>diabetes</th>\n",
              "      <th>alcoholism</th>\n",
              "      <th>handcap</th>\n",
              "      <th>sms_received</th>\n",
              "      <th>no-show</th>\n",
              "    </tr>\n",
              "  </thead>\n",
              "  <tbody>\n",
              "    <tr>\n",
              "      <th>count</th>\n",
              "      <td>110526.000000</td>\n",
              "      <td>110526.000000</td>\n",
              "      <td>110526.000000</td>\n",
              "      <td>110526.000000</td>\n",
              "      <td>110526.000000</td>\n",
              "      <td>110526.000000</td>\n",
              "      <td>110526.000000</td>\n",
              "      <td>110526.000000</td>\n",
              "    </tr>\n",
              "    <tr>\n",
              "      <th>mean</th>\n",
              "      <td>37.089219</td>\n",
              "      <td>0.098266</td>\n",
              "      <td>0.197248</td>\n",
              "      <td>0.071865</td>\n",
              "      <td>0.030400</td>\n",
              "      <td>0.022248</td>\n",
              "      <td>0.321029</td>\n",
              "      <td>0.201934</td>\n",
              "    </tr>\n",
              "    <tr>\n",
              "      <th>std</th>\n",
              "      <td>23.110026</td>\n",
              "      <td>0.297676</td>\n",
              "      <td>0.397923</td>\n",
              "      <td>0.258266</td>\n",
              "      <td>0.171686</td>\n",
              "      <td>0.161543</td>\n",
              "      <td>0.466874</td>\n",
              "      <td>0.401445</td>\n",
              "    </tr>\n",
              "    <tr>\n",
              "      <th>min</th>\n",
              "      <td>0.000000</td>\n",
              "      <td>0.000000</td>\n",
              "      <td>0.000000</td>\n",
              "      <td>0.000000</td>\n",
              "      <td>0.000000</td>\n",
              "      <td>0.000000</td>\n",
              "      <td>0.000000</td>\n",
              "      <td>0.000000</td>\n",
              "    </tr>\n",
              "    <tr>\n",
              "      <th>25%</th>\n",
              "      <td>18.000000</td>\n",
              "      <td>0.000000</td>\n",
              "      <td>0.000000</td>\n",
              "      <td>0.000000</td>\n",
              "      <td>0.000000</td>\n",
              "      <td>0.000000</td>\n",
              "      <td>0.000000</td>\n",
              "      <td>0.000000</td>\n",
              "    </tr>\n",
              "    <tr>\n",
              "      <th>50%</th>\n",
              "      <td>37.000000</td>\n",
              "      <td>0.000000</td>\n",
              "      <td>0.000000</td>\n",
              "      <td>0.000000</td>\n",
              "      <td>0.000000</td>\n",
              "      <td>0.000000</td>\n",
              "      <td>0.000000</td>\n",
              "      <td>0.000000</td>\n",
              "    </tr>\n",
              "    <tr>\n",
              "      <th>75%</th>\n",
              "      <td>55.000000</td>\n",
              "      <td>0.000000</td>\n",
              "      <td>0.000000</td>\n",
              "      <td>0.000000</td>\n",
              "      <td>0.000000</td>\n",
              "      <td>0.000000</td>\n",
              "      <td>1.000000</td>\n",
              "      <td>0.000000</td>\n",
              "    </tr>\n",
              "    <tr>\n",
              "      <th>max</th>\n",
              "      <td>115.000000</td>\n",
              "      <td>1.000000</td>\n",
              "      <td>1.000000</td>\n",
              "      <td>1.000000</td>\n",
              "      <td>1.000000</td>\n",
              "      <td>4.000000</td>\n",
              "      <td>1.000000</td>\n",
              "      <td>1.000000</td>\n",
              "    </tr>\n",
              "  </tbody>\n",
              "</table>\n",
              "</div>"
            ],
            "text/plain": [
              "                 age    scholarship  ...   sms_received        no-show\n",
              "count  110526.000000  110526.000000  ...  110526.000000  110526.000000\n",
              "mean       37.089219       0.098266  ...       0.321029       0.201934\n",
              "std        23.110026       0.297676  ...       0.466874       0.401445\n",
              "min         0.000000       0.000000  ...       0.000000       0.000000\n",
              "25%        18.000000       0.000000  ...       0.000000       0.000000\n",
              "50%        37.000000       0.000000  ...       0.000000       0.000000\n",
              "75%        55.000000       0.000000  ...       1.000000       0.000000\n",
              "max       115.000000       1.000000  ...       1.000000       1.000000\n",
              "\n",
              "[8 rows x 8 columns]"
            ]
          },
          "metadata": {
            "tags": []
          },
          "execution_count": 26
        }
      ]
    },
    {
      "cell_type": "code",
      "metadata": {
        "id": "llBzoE3uf4JQ",
        "colab_type": "code",
        "outputId": "f1985191-ecf8-4dc6-889e-9a7a9d3b5a36",
        "colab": {
          "base_uri": "https://localhost:8080/",
          "height": 69
        }
      },
      "source": [
        "# to count how many patients show and who doesn't show \n",
        "df['no-show'].value_counts()"
      ],
      "execution_count": 27,
      "outputs": [
        {
          "output_type": "execute_result",
          "data": {
            "text/plain": [
              "0    88207\n",
              "1    22319\n",
              "Name: no-show, dtype: int64"
            ]
          },
          "metadata": {
            "tags": []
          },
          "execution_count": 27
        }
      ]
    },
    {
      "cell_type": "markdown",
      "metadata": {
        "id": "gS-5X9FNf4JV",
        "colab_type": "text"
      },
      "source": [
        "I  count the column (no-show) to see the which gender has shown for their appointments, then I grouped by gender. The Female gender has appointments more than men and they have attend their appointments. From figure bellow it seems like female has commitments more than men, but I tried to compare between doesn't show between male and female and I find out that average of no-show for both gender is very close were female has only 1% more."
      ]
    },
    {
      "cell_type": "code",
      "metadata": {
        "id": "JgLFMR0nf4JW",
        "colab_type": "code",
        "outputId": "7bdc00c3-56e3-4313-fbaf-563e55ec0728",
        "colab": {
          "base_uri": "https://localhost:8080/",
          "height": 288
        }
      },
      "source": [
        "# Visualize teh no show baed on gender \n",
        "# 0 means they have shown and 1 didn't \n",
        "# Female appointments numbers grater than male appointments \n",
        "sns.set(style=\"darkgrid\")\n",
        "noshowbygender = sns.countplot(x= \"gender\", hue=\"no-show\", data=df)"
      ],
      "execution_count": 28,
      "outputs": [
        {
          "output_type": "display_data",
          "data": {
            "image/png": "[encoded data removed]",
            "text/plain": [
              "<Figure size 432x288 with 1 Axes>"
            ]
          },
          "metadata": {
            "tags": []
          }
        }
      ]
    },
    {
      "cell_type": "code",
      "metadata": {
        "id": "QXzle24Qf4JZ",
        "colab_type": "code",
        "outputId": "1ccf43a7-115a-44af-cd14-dc3fbcc047b2",
        "colab": {
          "base_uri": "https://localhost:8080/",
          "height": 35
        }
      },
      "source": [
        "# Count of Female patients who show and didn't show for their appointments\n",
        "df.query(\"gender=='F'\")['no-show'].mean()"
      ],
      "execution_count": 29,
      "outputs": [
        {
          "output_type": "execute_result",
          "data": {
            "text/plain": [
              "0.20314870752655242"
            ]
          },
          "metadata": {
            "tags": []
          },
          "execution_count": 29
        }
      ]
    },
    {
      "cell_type": "code",
      "metadata": {
        "scrolled": true,
        "id": "g6MbQTBPf4Jc",
        "colab_type": "code",
        "outputId": "22b83f4f-939e-418e-8cbd-8f1f54f48d3d",
        "colab": {
          "base_uri": "https://localhost:8080/",
          "height": 35
        }
      },
      "source": [
        "# Count of Male patients who show and didn't show for their appointments\n",
        "df.query(\"gender=='M'\")['no-show'].mean()"
      ],
      "execution_count": 30,
      "outputs": [
        {
          "output_type": "execute_result",
          "data": {
            "text/plain": [
              "0.19967947889471915"
            ]
          },
          "metadata": {
            "tags": []
          },
          "execution_count": 30
        }
      ]
    },
    {
      "cell_type": "markdown",
      "metadata": {
        "id": "LO_mnfIuf4Jg",
        "colab_type": "text"
      },
      "source": [
        "Groupby gender and age can idetify the majority of patients, in this situation groupby age and gender that show most our patients are adults. And most likley they have higher missing appointments rate."
      ]
    },
    {
      "cell_type": "code",
      "metadata": {
        "scrolled": false,
        "id": "s29tgD3Df4Jh",
        "colab_type": "code",
        "outputId": "076c186d-ffcc-4819-8e7c-d78d6ac253a4",
        "colab": {
          "base_uri": "https://localhost:8080/",
          "height": 191
        }
      },
      "source": [
        "# count by gender based on age group \n",
        "# You can see the majority are adults\n",
        "df.groupby('age_group') ['gender'].value_counts()"
      ],
      "execution_count": 31,
      "outputs": [
        {
          "output_type": "execute_result",
          "data": {
            "text/plain": [
              "age_group     gender\n",
              "Toddler/baby  M          2046\n",
              "              F          1845\n",
              "Child         F         10332\n",
              "              M          9617\n",
              "Adult         F         49014\n",
              "              M         20832\n",
              "Elderly       F          8918\n",
              "              M          4372\n",
              "Name: gender, dtype: int64"
            ]
          },
          "metadata": {
            "tags": []
          },
          "execution_count": 31
        }
      ]
    },
    {
      "cell_type": "code",
      "metadata": {
        "scrolled": true,
        "id": "ivS0y3rff4Jj",
        "colab_type": "code",
        "outputId": "c3ae29bd-7f37-460e-e673-d97d56c172f3",
        "colab": {
          "base_uri": "https://localhost:8080/",
          "height": 191
        }
      },
      "source": [
        "# count the patients based on gender and their distribution on age group\n",
        "df.groupby(['gender', 'age_group']) ['no-show'].count()"
      ],
      "execution_count": 32,
      "outputs": [
        {
          "output_type": "execute_result",
          "data": {
            "text/plain": [
              "gender  age_group   \n",
              "F       Toddler/baby     1845\n",
              "        Child           10332\n",
              "        Adult           49014\n",
              "        Elderly          8918\n",
              "M       Toddler/baby     2046\n",
              "        Child            9617\n",
              "        Adult           20832\n",
              "        Elderly          4372\n",
              "Name: no-show, dtype: int64"
            ]
          },
          "metadata": {
            "tags": []
          },
          "execution_count": 32
        }
      ]
    },
    {
      "cell_type": "code",
      "metadata": {
        "scrolled": false,
        "id": "QrQUDTdUf4Jn",
        "colab_type": "code",
        "outputId": "dfae7836-fd49-4be9-a177-ac2052890a81",
        "colab": {
          "base_uri": "https://localhost:8080/",
          "height": 191
        }
      },
      "source": [
        "# count no-show of distribution on age group \n",
        "# 0 means they have shown and 1 didn't \n",
        "df.groupby('age_group') ['no-show'].value_counts()"
      ],
      "execution_count": 33,
      "outputs": [
        {
          "output_type": "execute_result",
          "data": {
            "text/plain": [
              "age_group     no-show\n",
              "Toddler/baby  0           3224\n",
              "              1            667\n",
              "Child         0          15258\n",
              "              1           4691\n",
              "Adult         0          55590\n",
              "              1          14256\n",
              "Elderly       0          11227\n",
              "              1           2063\n",
              "Name: no-show, dtype: int64"
            ]
          },
          "metadata": {
            "tags": []
          },
          "execution_count": 33
        }
      ]
    },
    {
      "cell_type": "code",
      "metadata": {
        "scrolled": true,
        "id": "7lD3w_Huf4Jq",
        "colab_type": "code",
        "outputId": "f9027cd3-28ce-493a-ab33-831453c10512",
        "colab": {
          "base_uri": "https://localhost:8080/",
          "height": 285
        }
      },
      "source": [
        "# count no-show of distribution on age group \n",
        "# 0 means they have shown and 1 didn't \n",
        "sns.set(style=\"darkgrid\")\n",
        "noshowbygender = sns.countplot(x= \"age_group\", hue=\"no-show\", data=df)"
      ],
      "execution_count": 34,
      "outputs": [
        {
          "output_type": "display_data",
          "data": {
            "image/png": "[encoded data removed]",
            "text/plain": [
              "<Figure size 432x288 with 1 Axes>"
            ]
          },
          "metadata": {
            "tags": []
          }
        }
      ]
    },
    {
      "cell_type": "code",
      "metadata": {
        "scrolled": false,
        "id": "-q6DfI-qf4Js",
        "colab_type": "code",
        "outputId": "8c16653c-edc1-4dc2-f4b0-d7b4bd9b3ffe",
        "colab": {
          "base_uri": "https://localhost:8080/",
          "height": 285
        }
      },
      "source": [
        "# By Female gender count no-show over age group \n",
        "# Adult Female are the most \n",
        "# 0 means they have shown and 1 didn't \n",
        "sns.set(style=\"darkgrid\")\n",
        "sns.countplot(data=df.loc[df['gender']==\"F\"], x='age_group', hue='no-show');"
      ],
      "execution_count": 35,
      "outputs": [
        {
          "output_type": "display_data",
          "data": {
            "image/png": "[encoded data removed]",
            "text/plain": [
              "<Figure size 432x288 with 1 Axes>"
            ]
          },
          "metadata": {
            "tags": []
          }
        }
      ]
    },
    {
      "cell_type": "code",
      "metadata": {
        "id": "N2fEb1rmf4Jv",
        "colab_type": "code",
        "outputId": "2435ca3a-f38a-474b-a8f8-c90487de6ea3",
        "colab": {
          "base_uri": "https://localhost:8080/",
          "height": 285
        }
      },
      "source": [
        "# By Male gender count no-show over age group \n",
        "# Adult Male are the most\n",
        "# 0 means they have shown and 1 didn't\n",
        "sns.set(style=\"darkgrid\")\n",
        "sns.countplot(data=df.loc[df['gender']==\"M\"], x='age_group', hue='no-show');"
      ],
      "execution_count": 36,
      "outputs": [
        {
          "output_type": "display_data",
          "data": {
            "image/png": "[encoded data removed]",
            "text/plain": [
              "<Figure size 432x288 with 1 Axes>"
            ]
          },
          "metadata": {
            "tags": []
          }
        }
      ]
    },
    {
      "cell_type": "markdown",
      "metadata": {
        "id": "9f_N4VZsf4Jx",
        "colab_type": "text"
      },
      "source": [
        "Adult group are the most of having appointments in hospital, so they have higher rate on missing their appointments. By comparing between genders I have noticed that female has higher rate than male of missing no-show for appointments."
      ]
    },
    {
      "cell_type": "code",
      "metadata": {
        "id": "y0U4FFz3f4Jx",
        "colab_type": "code",
        "outputId": "8b903a17-4c69-471b-c251-0a6ed1503725",
        "colab": {
          "base_uri": "https://localhost:8080/",
          "height": 87
        }
      },
      "source": [
        "df.columns"
      ],
      "execution_count": 37,
      "outputs": [
        {
          "output_type": "execute_result",
          "data": {
            "text/plain": [
              "Index(['gender', 'scheduledday', 'appointmentday', 'age', 'neighbourhood',\n",
              "       'age_group', 'scholarship', 'hipertension', 'diabetes', 'alcoholism',\n",
              "       'handcap', 'sms_received', 'no-show'],\n",
              "      dtype='object')"
            ]
          },
          "metadata": {
            "tags": []
          },
          "execution_count": 37
        }
      ]
    },
    {
      "cell_type": "markdown",
      "metadata": {
        "id": "kt5l6GG7f4J1",
        "colab_type": "text"
      },
      "source": [
        "### Research Question 2: which age group have more diseases and disapilities? does it have impact on no-show?"
      ]
    },
    {
      "cell_type": "code",
      "metadata": {
        "id": "l7DCoOWrf4J1",
        "colab_type": "code",
        "outputId": "4d886e82-375e-4f9d-c2ec-359a2d4cddba",
        "colab": {
          "base_uri": "https://localhost:8080/",
          "height": 79
        }
      },
      "source": [
        "# Show the head of dataframe \n",
        "df.head(1)"
      ],
      "execution_count": 38,
      "outputs": [
        {
          "output_type": "execute_result",
          "data": {
            "text/html": [
              "<div>\n",
              "<style scoped>\n",
              "    .dataframe tbody tr th:only-of-type {\n",
              "        vertical-align: middle;\n",
              "    }\n",
              "\n",
              "    .dataframe tbody tr th {\n",
              "        vertical-align: top;\n",
              "    }\n",
              "\n",
              "    .dataframe thead th {\n",
              "        text-align: right;\n",
              "    }\n",
              "</style>\n",
              "<table border=\"1\" class=\"dataframe\">\n",
              "  <thead>\n",
              "    <tr style=\"text-align: right;\">\n",
              "      <th></th>\n",
              "      <th>gender</th>\n",
              "      <th>scheduledday</th>\n",
              "      <th>appointmentday</th>\n",
              "      <th>age</th>\n",
              "      <th>neighbourhood</th>\n",
              "      <th>age_group</th>\n",
              "      <th>scholarship</th>\n",
              "      <th>hipertension</th>\n",
              "      <th>diabetes</th>\n",
              "      <th>alcoholism</th>\n",
              "      <th>handcap</th>\n",
              "      <th>sms_received</th>\n",
              "      <th>no-show</th>\n",
              "    </tr>\n",
              "  </thead>\n",
              "  <tbody>\n",
              "    <tr>\n",
              "      <th>0</th>\n",
              "      <td>F</td>\n",
              "      <td>2016-04-29 18:38:08</td>\n",
              "      <td>2016-04-29</td>\n",
              "      <td>62</td>\n",
              "      <td>JARDIM DA PENHA</td>\n",
              "      <td>Adult</td>\n",
              "      <td>0</td>\n",
              "      <td>1</td>\n",
              "      <td>0</td>\n",
              "      <td>0</td>\n",
              "      <td>0</td>\n",
              "      <td>0</td>\n",
              "      <td>0</td>\n",
              "    </tr>\n",
              "  </tbody>\n",
              "</table>\n",
              "</div>"
            ],
            "text/plain": [
              "  gender        scheduledday appointmentday  ...  handcap sms_received no-show\n",
              "0      F 2016-04-29 18:38:08     2016-04-29  ...        0            0       0\n",
              "\n",
              "[1 rows x 13 columns]"
            ]
          },
          "metadata": {
            "tags": []
          },
          "execution_count": 38
        }
      ]
    },
    {
      "cell_type": "code",
      "metadata": {
        "scrolled": true,
        "id": "9onXE73lf4J4",
        "colab_type": "code",
        "outputId": "f64020a0-c2ff-469a-e500-82f5124f20c8",
        "colab": {
          "base_uri": "https://localhost:8080/",
          "height": 295
        }
      },
      "source": [
        "# Count based on age group \n",
        "# 0 means they don't have hipertension and 1 they didn't \n",
        "df.groupby(['gender', 'age_group']) ['hipertension'].value_counts()"
      ],
      "execution_count": 39,
      "outputs": [
        {
          "output_type": "execute_result",
          "data": {
            "text/plain": [
              "gender  age_group     hipertension\n",
              "F       Toddler/baby  0                1845\n",
              "        Child         0               10312\n",
              "                      1                  20\n",
              "        Adult         0               39195\n",
              "                      1                9819\n",
              "        Elderly       1                5499\n",
              "                      0                3419\n",
              "M       Toddler/baby  0                2046\n",
              "        Child         0                9599\n",
              "                      1                  18\n",
              "        Adult         0               16872\n",
              "                      1                3960\n",
              "        Elderly       1                2484\n",
              "                      0                1888\n",
              "Name: hipertension, dtype: int64"
            ]
          },
          "metadata": {
            "tags": []
          },
          "execution_count": 39
        }
      ]
    },
    {
      "cell_type": "markdown",
      "metadata": {
        "id": "_qPrk6GJf4J7",
        "colab_type": "text"
      },
      "source": [
        "From count you can notice that most of category have diagnosis with hypertension are adult and elderly. does this have relation with no-show?."
      ]
    },
    {
      "cell_type": "code",
      "metadata": {
        "scrolled": true,
        "id": "aRqzmmtYf4J8",
        "colab_type": "code",
        "outputId": "066e6905-d8a1-48c1-a474-b55202b54e38",
        "colab": {
          "base_uri": "https://localhost:8080/",
          "height": 285
        }
      },
      "source": [
        "# Visualization based on two groups that shows where exactly hypertension distribute\n",
        "# 0 means they don't have hipertension and 1 they didn't \n",
        "sns.set(style=\"darkgrid\")\n",
        "noshowbygender = sns.countplot(x= \"hipertension\", hue=\"age_group\", data=df)"
      ],
      "execution_count": 40,
      "outputs": [
        {
          "output_type": "display_data",
          "data": {
            "image/png": "[encoded data removed]",
            "text/plain": [
              "<Figure size 432x288 with 1 Axes>"
            ]
          },
          "metadata": {
            "tags": []
          }
        }
      ]
    },
    {
      "cell_type": "code",
      "metadata": {
        "scrolled": true,
        "id": "wyng3hm1f4J-",
        "colab_type": "code",
        "outputId": "3ef2cc54-3c68-48f7-ab21-1781e659fdb7",
        "colab": {
          "base_uri": "https://localhost:8080/",
          "height": 285
        }
      },
      "source": [
        "# Visualization were show attendance of patients with hipertension\n",
        "# 0 means they have shown and 1 didn't\n",
        "sns.set(style=\"darkgrid\")\n",
        "sns.countplot(data=df.loc[df['hipertension']==1], x='age_group', hue='no-show');"
      ],
      "execution_count": 41,
      "outputs": [
        {
          "output_type": "display_data",
          "data": {
            "image/png": "[encoded data removed]",
            "text/plain": [
              "<Figure size 432x288 with 1 Axes>"
            ]
          },
          "metadata": {
            "tags": []
          }
        }
      ]
    },
    {
      "cell_type": "markdown",
      "metadata": {
        "id": "jrJxWn3-f4KB",
        "colab_type": "text"
      },
      "source": [
        "In this graph you can see that age group of Adult and Elderly have majority of hypertension diseases, ِAdult and Elderly have higher rate of not shown for their appointments. from previous question we find out adult have the higher rate of no-show for appointment. This mean hypertension has relation with adult age group for no-show for appointment. "
      ]
    },
    {
      "cell_type": "code",
      "metadata": {
        "scrolled": true,
        "id": "kC9CZ6MZf4KC",
        "colab_type": "code",
        "outputId": "5c3ab9bf-bf43-4c15-da59-c14badf86c6e",
        "colab": {
          "base_uri": "https://localhost:8080/",
          "height": 285
        }
      },
      "source": [
        "# Visualization based on two groups that shows where exactly handicap distribute\n",
        "# 0 means they are not Handicap and 1 they are handicap \n",
        "sns.set(style=\"darkgrid\")\n",
        "noshowbygender = sns.countplot(x= \"handcap\", hue=\"age_group\", data=df)"
      ],
      "execution_count": 42,
      "outputs": [
        {
          "output_type": "display_data",
          "data": {
            "image/png": "[encoded data removed]",
            "text/plain": [
              "<Figure size 432x288 with 1 Axes>"
            ]
          },
          "metadata": {
            "tags": []
          }
        }
      ]
    },
    {
      "cell_type": "markdown",
      "metadata": {
        "id": "jRnqdMdcf4KH",
        "colab_type": "text"
      },
      "source": [
        "This graph show distribution between age group, the factor is handicap. it's very few so you will not have very clear reading."
      ]
    },
    {
      "cell_type": "code",
      "metadata": {
        "scrolled": true,
        "id": "TI2Dpd7bf4KI",
        "colab_type": "code",
        "outputId": "de7a554b-5028-46ce-c361-b83c70257062",
        "colab": {
          "base_uri": "https://localhost:8080/",
          "height": 285
        }
      },
      "source": [
        "# Handicap based on  age group \n",
        "# 0 means they have shown and 1 didn't\n",
        "sns.set(style=\"darkgrid\")\n",
        "sns.countplot(data=df.loc[df['handcap']==1], x='age_group', hue='no-show');"
      ],
      "execution_count": 43,
      "outputs": [
        {
          "output_type": "display_data",
          "data": {
            "image/png": "[encoded data removed]",
            "text/plain": [
              "<Figure size 432x288 with 1 Axes>"
            ]
          },
          "metadata": {
            "tags": []
          }
        }
      ]
    },
    {
      "cell_type": "markdown",
      "metadata": {
        "id": "DU9Qgg-0f4KL",
        "colab_type": "text"
      },
      "source": [
        "I have choose to visualize the only handicap cases, you can see very clear reading. the greatest are adult and elderly. They have higher rate of missing appointments."
      ]
    },
    {
      "cell_type": "markdown",
      "metadata": {
        "id": "ilzyiFcif4KL",
        "colab_type": "text"
      },
      "source": [
        "### Research Question 3: which age group have more scholarship and received SMS? does it have impact on no-show?"
      ]
    },
    {
      "cell_type": "code",
      "metadata": {
        "id": "F0fBVZ_Lf4KM",
        "colab_type": "code",
        "outputId": "d83d7e37-2c91-4d18-ea03-390e8360a135",
        "colab": {
          "base_uri": "https://localhost:8080/",
          "height": 79
        }
      },
      "source": [
        "# See the head of dataframe \n",
        "df.head(1)"
      ],
      "execution_count": 44,
      "outputs": [
        {
          "output_type": "execute_result",
          "data": {
            "text/html": [
              "<div>\n",
              "<style scoped>\n",
              "    .dataframe tbody tr th:only-of-type {\n",
              "        vertical-align: middle;\n",
              "    }\n",
              "\n",
              "    .dataframe tbody tr th {\n",
              "        vertical-align: top;\n",
              "    }\n",
              "\n",
              "    .dataframe thead th {\n",
              "        text-align: right;\n",
              "    }\n",
              "</style>\n",
              "<table border=\"1\" class=\"dataframe\">\n",
              "  <thead>\n",
              "    <tr style=\"text-align: right;\">\n",
              "      <th></th>\n",
              "      <th>gender</th>\n",
              "      <th>scheduledday</th>\n",
              "      <th>appointmentday</th>\n",
              "      <th>age</th>\n",
              "      <th>neighbourhood</th>\n",
              "      <th>age_group</th>\n",
              "      <th>scholarship</th>\n",
              "      <th>hipertension</th>\n",
              "      <th>diabetes</th>\n",
              "      <th>alcoholism</th>\n",
              "      <th>handcap</th>\n",
              "      <th>sms_received</th>\n",
              "      <th>no-show</th>\n",
              "    </tr>\n",
              "  </thead>\n",
              "  <tbody>\n",
              "    <tr>\n",
              "      <th>0</th>\n",
              "      <td>F</td>\n",
              "      <td>2016-04-29 18:38:08</td>\n",
              "      <td>2016-04-29</td>\n",
              "      <td>62</td>\n",
              "      <td>JARDIM DA PENHA</td>\n",
              "      <td>Adult</td>\n",
              "      <td>0</td>\n",
              "      <td>1</td>\n",
              "      <td>0</td>\n",
              "      <td>0</td>\n",
              "      <td>0</td>\n",
              "      <td>0</td>\n",
              "      <td>0</td>\n",
              "    </tr>\n",
              "  </tbody>\n",
              "</table>\n",
              "</div>"
            ],
            "text/plain": [
              "  gender        scheduledday appointmentday  ...  handcap sms_received no-show\n",
              "0      F 2016-04-29 18:38:08     2016-04-29  ...        0            0       0\n",
              "\n",
              "[1 rows x 13 columns]"
            ]
          },
          "metadata": {
            "tags": []
          },
          "execution_count": 44
        }
      ]
    },
    {
      "cell_type": "code",
      "metadata": {
        "scrolled": true,
        "id": "OgnbMw87f4KT",
        "colab_type": "code",
        "outputId": "6ee0aff6-cd57-4dc4-8611-e4edb95ce7be",
        "colab": {
          "base_uri": "https://localhost:8080/",
          "height": 191
        }
      },
      "source": [
        "# Count sms recived based on age group\n",
        "df.groupby(['age_group']) ['sms_received'].value_counts()"
      ],
      "execution_count": 45,
      "outputs": [
        {
          "output_type": "execute_result",
          "data": {
            "text/plain": [
              "age_group     sms_received\n",
              "Toddler/baby  0                2932\n",
              "              1                 959\n",
              "Child         0               13784\n",
              "              1                6165\n",
              "Adult         0               46383\n",
              "              1               23463\n",
              "Elderly       0                9294\n",
              "              1                3996\n",
              "Name: sms_received, dtype: int64"
            ]
          },
          "metadata": {
            "tags": []
          },
          "execution_count": 45
        }
      ]
    },
    {
      "cell_type": "markdown",
      "metadata": {
        "id": "o9rTiE1Af4KX",
        "colab_type": "text"
      },
      "source": [
        "patients can receive more than one SMS messages for their appointments, from count you can see adults have heist rate of not receiving sms messages. this might have relation with no-show. "
      ]
    },
    {
      "cell_type": "code",
      "metadata": {
        "scrolled": false,
        "id": "dvLVorcPf4KZ",
        "colab_type": "code",
        "outputId": "fe63310e-0414-4710-8b86-ddb4f1532d19",
        "colab": {
          "base_uri": "https://localhost:8080/",
          "height": 285
        }
      },
      "source": [
        "# Count ptients who receive one or more messages based on age group and no-show\n",
        "# 0 means they have shown and 1 didn't\n",
        "sns.set(style=\"darkgrid\")\n",
        "sns.countplot(data=df.loc[df['sms_received']>=1], x='age_group', hue='no-show');"
      ],
      "execution_count": 46,
      "outputs": [
        {
          "output_type": "display_data",
          "data": {
            "image/png": "[encoded data removed]",
            "text/plain": [
              "<Figure size 432x288 with 1 Axes>"
            ]
          },
          "metadata": {
            "tags": []
          }
        }
      ]
    },
    {
      "cell_type": "markdown",
      "metadata": {
        "id": "AMWblUc4f4Kc",
        "colab_type": "text"
      },
      "source": [
        "The graph show that patients who received one or more sms messages, It seems like adult have high rate for no-show for appointment. there are high rate of patients who received sms message and didn't show for appointment in adult age group."
      ]
    },
    {
      "cell_type": "code",
      "metadata": {
        "scrolled": true,
        "id": "NhlpJTlLf4Kc",
        "colab_type": "code",
        "outputId": "e7811af9-971c-48ac-9621-b471a5453469",
        "colab": {
          "base_uri": "https://localhost:8080/",
          "height": 329
        }
      },
      "source": [
        "# Count based on age group who's in scholarship program and show or not to their appointments\n",
        "# for scholarship 0 means they are not involve in program and 1 they are involved \n",
        "# in no-show 0 means they have shown and 1 didn't\n",
        "df.groupby(['age_group','scholarship']) ['no-show'].value_counts()"
      ],
      "execution_count": 47,
      "outputs": [
        {
          "output_type": "execute_result",
          "data": {
            "text/plain": [
              "age_group     scholarship  no-show\n",
              "Toddler/baby  0            0           3050\n",
              "                           1            640\n",
              "              1            0            174\n",
              "                           1             27\n",
              "Child         0            0          13157\n",
              "                           1           3983\n",
              "              1            0           2101\n",
              "                           1            708\n",
              "Adult         0            0          49842\n",
              "                           1          12456\n",
              "              1            0           5748\n",
              "                           1           1800\n",
              "Elderly       0            0          11012\n",
              "                           1           2027\n",
              "              1            0            215\n",
              "                           1             36\n",
              "Name: no-show, dtype: int64"
            ]
          },
          "metadata": {
            "tags": []
          },
          "execution_count": 47
        }
      ]
    },
    {
      "cell_type": "code",
      "metadata": {
        "scrolled": false,
        "id": "QTEruXnZf4Kh",
        "colab_type": "code",
        "outputId": "7852e181-9c5d-4679-ac6a-ad36975d8304",
        "colab": {
          "base_uri": "https://localhost:8080/",
          "height": 288
        }
      },
      "source": [
        "# Visualize based on age group and they are involoved in scholarship program \n",
        "# 0 means they have shown and 1 didn't \n",
        "sns.set(style=\"darkgrid\")\n",
        "sns.countplot(data=df.loc[df['scholarship']==1], x='age_group', hue='no-show');"
      ],
      "execution_count": 48,
      "outputs": [
        {
          "output_type": "display_data",
          "data": {
            "image/png": "[encoded data removed]",
            "text/plain": [
              "<Figure size 432x288 with 1 Axes>"
            ]
          },
          "metadata": {
            "tags": []
          }
        }
      ]
    },
    {
      "cell_type": "markdown",
      "metadata": {
        "id": "zGzbmhuqf4Kk",
        "colab_type": "text"
      },
      "source": [
        "patients with scholarship program mostly distributed on age group adult and child, those to groups have high rate of attending their appointments. But still there's a percentage of patients who are involved in the program and didn't show for the appointment."
      ]
    },
    {
      "cell_type": "markdown",
      "metadata": {
        "id": "nO8HWqVCf4Kl",
        "colab_type": "text"
      },
      "source": [
        "<a id='conclusions'></a>\n",
        "## Conclusions\n",
        "\n",
        "At he end of this investigation, I would like to summarize my process and complete my finding. For the cleaning phase I have run through several process to make sure that data is ready to use and result will be clear be consumed. During exploration phase I have faced several obstacles to define test samples, so I come up with idea to categories the patients based on age. I look for this solution because it will be  understandable by audience. by applying this mechanism I come up with these observations.\n",
        "\n",
        "1- Adults have high rate of missing appointments.\n",
        "\n",
        "2- Adult Females have appointments more than males and they no-show for appointments higher than males.\n",
        "\n",
        "3- hipertension rate is high within adult and elderly, and have the relationship with patients they no-show for appointment \n",
        "\n",
        "4- Handicap percentage is distribute between adult and elderly, but the impact on no show it seems like does not taken into consideration.\n",
        "\n",
        "5- For SMS , Adult patients have received one or more sms and they didn't show for their appointments.\n",
        "\n",
        "6- For scholarship program that Adults and children have greatest involved, Adults have higher rate of no-show for their appointments\n",
        "\n",
        "\n",
        "Thank You, \n",
        "Fahad Alnuaimi"
      ]
    },
    {
      "cell_type": "code",
      "metadata": {
        "id": "tish4dlAiYmD",
        "colab_type": "code",
        "colab": {}
      },
      "source": [
        ""
      ],
      "execution_count": 0,
      "outputs": []
    }
  ]
}